{
 "cells": [
  {
   "cell_type": "code",
   "execution_count": 18,
   "id": "a3b3e420-83aa-4cd1-8fd8-3cf9e45d60a8",
   "metadata": {},
   "outputs": [],
   "source": [
    "def count_vowels(text):\n",
    "    # Initialize a dictionary to store the counts for each vowel\n",
    "    vowel_counts = {'a': 0, 'e': 0, 'i': 0, 'o': 0, 'u': 0}\n",
    "    \n",
    "    # Convert the text to lowercase to handle both uppercase and lowercase vowels\n",
    "    text = text.lower();\n",
    "    \n",
    "    # Iterate through each character in the text\n",
    "    for char in text:\n",
    "        # If the character is a vowel, increment its count in the dictionary\n",
    "        if char in vowel_counts:\n",
    "            vowel_counts[char] += 1\n",
    "    \n",
    "    return vowel_counts"
   ]
  },
  {
   "cell_type": "code",
   "execution_count": 21,
   "id": "fc5d8721-8abd-400e-a504-dbb67c7c00df",
   "metadata": {},
   "outputs": [
    {
     "data": {
      "text/plain": [
       "{'a': 1, 'e': 1, 'i': 2, 'o': 3, 'u': 1}"
      ]
     },
     "execution_count": 21,
     "metadata": {},
     "output_type": "execute_result"
    }
   ],
   "source": [
    "count_vowels('Communication Process')"
   ]
  },
  {
   "cell_type": "code",
   "execution_count": null,
   "id": "fe44719b-5978-44e3-a550-019157a3014c",
   "metadata": {},
   "outputs": [],
   "source": []
  }
 ],
 "metadata": {
  "kernelspec": {
   "display_name": "Python 3 (ipykernel)",
   "language": "python",
   "name": "python3"
  },
  "language_info": {
   "codemirror_mode": {
    "name": "ipython",
    "version": 3
   },
   "file_extension": ".py",
   "mimetype": "text/x-python",
   "name": "python",
   "nbconvert_exporter": "python",
   "pygments_lexer": "ipython3",
   "version": "3.11.7"
  }
 },
 "nbformat": 4,
 "nbformat_minor": 5
}
